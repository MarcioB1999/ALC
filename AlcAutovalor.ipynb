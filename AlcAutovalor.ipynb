{
  "nbformat": 4,
  "nbformat_minor": 0,
  "metadata": {
    "colab": {
      "name": "AlcAutovalor",
      "provenance": [],
      "collapsed_sections": [],
      "authorship_tag": "ABX9TyPP9jwu7m6Yx83WGDUSxcA6",
      "include_colab_link": true
    },
    "kernelspec": {
      "display_name": "Python 3",
      "name": "python3"
    }
  },
  "cells": [
    {
      "cell_type": "markdown",
      "metadata": {
        "id": "view-in-github",
        "colab_type": "text"
      },
      "source": [
        "<a href=\"https://colab.research.google.com/github/MarcioB1999/ALC/blob/main/AlcAutovalor.ipynb\" target=\"_parent\"><img src=\"https://colab.research.google.com/assets/colab-badge.svg\" alt=\"Open In Colab\"/></a>"
      ]
    },
    {
      "cell_type": "code",
      "metadata": {
        "colab": {
          "base_uri": "https://localhost:8080/"
        },
        "id": "vHvtXG2nrP9X",
        "outputId": "ac7fcf55-1686-4ba1-a6ff-89c3a58a4599"
      },
      "source": [
        "!pip install matplotlib-venn\n",
        "import numpy as np\n",
        "from numpy import linalg as LA\n",
        "from scipy.linalg import lu_factor"
      ],
      "execution_count": 2,
      "outputs": [
        {
          "output_type": "stream",
          "text": [
            "Requirement already satisfied: matplotlib-venn in /usr/local/lib/python3.7/dist-packages (0.11.6)\n",
            "Requirement already satisfied: numpy in /usr/local/lib/python3.7/dist-packages (from matplotlib-venn) (1.19.5)\n",
            "Requirement already satisfied: matplotlib in /usr/local/lib/python3.7/dist-packages (from matplotlib-venn) (3.2.2)\n",
            "Requirement already satisfied: scipy in /usr/local/lib/python3.7/dist-packages (from matplotlib-venn) (1.4.1)\n",
            "Requirement already satisfied: cycler>=0.10 in /usr/local/lib/python3.7/dist-packages (from matplotlib->matplotlib-venn) (0.10.0)\n",
            "Requirement already satisfied: python-dateutil>=2.1 in /usr/local/lib/python3.7/dist-packages (from matplotlib->matplotlib-venn) (2.8.1)\n",
            "Requirement already satisfied: kiwisolver>=1.0.1 in /usr/local/lib/python3.7/dist-packages (from matplotlib->matplotlib-venn) (1.3.1)\n",
            "Requirement already satisfied: pyparsing!=2.0.4,!=2.1.2,!=2.1.6,>=2.0.1 in /usr/local/lib/python3.7/dist-packages (from matplotlib->matplotlib-venn) (2.4.7)\n",
            "Requirement already satisfied: six in /usr/local/lib/python3.7/dist-packages (from cycler>=0.10->matplotlib->matplotlib-venn) (1.15.0)\n"
          ],
          "name": "stdout"
        }
      ]
    },
    {
      "cell_type": "markdown",
      "metadata": {
        "id": "LAIbXMxwJDX4"
      },
      "source": [
        "**Obs: Existem condições a serem atendidas pelas entradas das funções, nas quais não é especificado pelos manuais**"
      ]
    },
    {
      "cell_type": "markdown",
      "metadata": {
        "id": "HqTPawVxoC9s"
      },
      "source": [
        "**Método Leverrier Faddeev**"
      ]
    },
    {
      "cell_type": "markdown",
      "metadata": {
        "id": "uHn_ns2YwXQO"
      },
      "source": [
        "**Manual:** \\\\\n",
        "O parâmetro de entrada é uma matriz $\\mathbf{A} \\in M(n\\times n)$, e a saída será um vetor $\\mathbf{v}$, com os autovalores, e uma matriz $\\mathbf{Q} \\in M(n\\times n^{2})$ dos autovetores, e por último a matriz inversa $\\mathbf{A^{-1}} \\in M(n\\times n)$."
      ]
    },
    {
      "cell_type": "code",
      "metadata": {
        "id": "d21DfbxezqNr"
      },
      "source": [
        "def LeverrierFaddeev(A):\n",
        "   n=np.shape(A)[0]\n",
        "   Def=np.zeros((n,n))\n",
        "   Q=np.zeros((n,n**2))\n",
        "   ava=np.zeros(n+1)\n",
        "   ava[0]=((-1)**(n))*1\n",
        "   ava[1:n+1], C= aux1(A)\n",
        "   ava[1:n+1]*=((-1)**(n+1))\n",
        "   v=np.roots(ava)\n",
        "   j=np.shape(v)[0]\n",
        "   Q=np.zeros((n,j*n))\n",
        "   for i in range(j):\n",
        "     Q[0:n,i*n:(i+1)*n]=aux2(v[i], C, n)\n",
        "   if(np.linalg.det(A)!=0):\n",
        "      Def=(1/ava[n])*C[0:n,n*(n-2):n*(n-1)]\n",
        "   return v, Q, Def"
      ],
      "execution_count": 17,
      "outputs": []
    },
    {
      "cell_type": "code",
      "metadata": {
        "id": "2VMcjy_gn9Z4"
      },
      "source": [
        "def aux1(A):\n",
        "   q=[]\n",
        "   n=np.shape(A)[0]\n",
        "   C=np.zeros((n,n**2))\n",
        "   I=np.eye(n)\n",
        "   Ak=A\n",
        "   for i in range(n):\n",
        "      q.append(np.trace(Ak)/(i+1))\n",
        "      B=Ak-q[i]*I\n",
        "      C[0:n,i*n:(i+1)*n]=B[:]\n",
        "      Ak=A.dot(B)\n",
        "   return q, C"
      ],
      "execution_count": 4,
      "outputs": []
    },
    {
      "cell_type": "code",
      "metadata": {
        "id": "0_QyOrOQ7GWX"
      },
      "source": [
        "def aux2(av, C, n):\n",
        "   Q=(av**(n-1))*np.eye(n)\n",
        "   for i in range(n-1):\n",
        "      Q+=(av**(n-i-2))*C[0:n,i*n:(i+1)*n]\n",
        "   return Q"
      ],
      "execution_count": 5,
      "outputs": []
    },
    {
      "cell_type": "markdown",
      "metadata": {
        "id": "9z5sP8S9ekwc"
      },
      "source": [
        "**Método da Potência**"
      ]
    },
    {
      "cell_type": "markdown",
      "metadata": {
        "id": "sNXtQHohyKjr"
      },
      "source": [
        "**Manual:** \\\\\n",
        "O parâmetro de entrada é uma matriz $\\mathbf{A} \\in M(n\\times n)$, e a saída seu maior autovalor $\\alpha$ em valor absoluto e seu autovetor associado $\\mathbf{v} \\in \\mathbb{R}^{n}$."
      ]
    },
    {
      "cell_type": "code",
      "metadata": {
        "id": "IIKQFTkWem9M"
      },
      "source": [
        "def Potencia(A):\n",
        "   erro=np.zeros(2)\n",
        "   n=np.shape(A)[0]\n",
        "   z=np.random.rand(n)\n",
        "   erro[0]=10**(3)\n",
        "   apr=np.zeros(n)\n",
        "   aprant=np.zeros(n)\n",
        "   while(erro[0]>10**(-2)):\n",
        "      y=(1/LA.norm(z, np.inf))*z\n",
        "      z=(np.array(A.dot(y.T))).reshape(-1)\n",
        "      if(LA.norm(z)<=10**(-2) or LA.norm(y)<=10**(-2)):\n",
        "        return 0, np.zeros(n)\n",
        "      apr=(np.array(z)/np.array(y)).reshape(n)\n",
        "      erro[0]=10**(5)\n",
        "      for i in range(n):\n",
        "         aux=abs(apr[i]-aprant[i])\n",
        "         if(aux<erro[0]):\n",
        "           erro[0]=aux\n",
        "           erro[1]=i\n",
        "      aprant=apr\n",
        "   return apr[int(erro[1])], y"
      ],
      "execution_count": 18,
      "outputs": []
    },
    {
      "cell_type": "markdown",
      "metadata": {
        "id": "s18yvPUG6Si3"
      },
      "source": [
        "**Potência Inversa**"
      ]
    },
    {
      "cell_type": "markdown",
      "metadata": {
        "id": "OxDgv8rfzq0P"
      },
      "source": [
        "**Manual:** \\\\\n",
        "O parâmetro de entrada é uma matriz $\\mathbf{A} \\in M(n\\times n)$, e a saída seu menor autovalor $\\alpha$ em valor absoluto e seu autovetor associado $\\mathbf{v} \\in \\mathbb{R}^{n}$."
      ]
    },
    {
      "cell_type": "code",
      "metadata": {
        "id": "bHrAEr7p6T6j"
      },
      "source": [
        "def PotenciaInv(A):\n",
        "   valor, vetor=questao6(LA.inv(A))\n",
        "   return 1/valor, vetor"
      ],
      "execution_count": 20,
      "outputs": []
    },
    {
      "cell_type": "markdown",
      "metadata": {
        "id": "8GrLlotp-RC9"
      },
      "source": [
        "**Método da Deflação com o Método da Potência**"
      ]
    },
    {
      "cell_type": "markdown",
      "metadata": {
        "id": "THDZJn623Foa"
      },
      "source": [
        "**Manual:** \\\\\n",
        "O parâmetro de entrada é uma matriz $\\mathbf{A} \\in M(n\\times n)$, e a saída é um $\\mathbf{v} \\in \\mathbb{R}^{n}$ com seus autovalores, e uma matriz $\\mathbf{C} \\in M(n\\times n)$ com os autovetores associados."
      ]
    },
    {
      "cell_type": "code",
      "metadata": {
        "id": "-JDGcZW5-R6I"
      },
      "source": [
        "def Deflacao(A):\n",
        "   n=np.shape(A)[0]\n",
        "   autvalor=np.zeros(n)\n",
        "   autvetor=np.zeros((n,n))\n",
        "   I=np.eye(n)\n",
        "   for i in range(n):\n",
        "      while True:\n",
        "          autvalor[i], autvetor[i,:]=questao6(A)\n",
        "          if not (autvetor[i,:]==(np.zeros(n))).all():\n",
        "              break\n",
        "      u=autvetor[i,:]\n",
        "      x=u/((LA.norm(u))**(2))\n",
        "      A=A.dot(I-np.outer(u, x))\n",
        "   return autvalor, autvetor"
      ],
      "execution_count": 21,
      "outputs": []
    },
    {
      "cell_type": "markdown",
      "metadata": {
        "id": "RRzpx7y4APn-"
      },
      "source": [
        "**Método Rutishauser**"
      ]
    },
    {
      "cell_type": "markdown",
      "metadata": {
        "id": "b4mmYVePFccS"
      },
      "source": [
        "**Manual:** \\\\\n",
        "O parâmetro de entrada é uma matriz $\\mathbf{A} \\in M(n\\times n)$ e um $\\alpha$ que será a precisão, e a saída será um vetor $\\mathbf{v}$, com os autovalores."
      ]
    },
    {
      "cell_type": "code",
      "metadata": {
        "id": "N3F4F3UaAQuv"
      },
      "source": [
        "def Rutishauser(A, precisao):\n",
        "    n=np.shape(A)[0]\n",
        "    a=np.zeros(n)\n",
        "    erro=10**(2)\n",
        "    while(erro>precisao):\n",
        "         aux, pv=lu_factor(A)\n",
        "         L, U = np.tril(aux, k=-1) + np.eye(n), np.triu(aux)\n",
        "         L=A.dot(LA.inv(U))\n",
        "         A=U.dot(L)\n",
        "         erro=aux3(A, n)\n",
        "    for i in range(n):\n",
        "       a[i]=A[i,i]\n",
        "    return a"
      ],
      "execution_count": 9,
      "outputs": []
    },
    {
      "cell_type": "code",
      "metadata": {
        "id": "R-WoxVDtoxAU"
      },
      "source": [
        "def aux3(A, n):\n",
        "   erro=10**(3)\n",
        "   for i in range(1,n):\n",
        "        auxi=abs(min((np.array(A[i,0:i])).reshape(i)))\n",
        "        if(auxi<erro):\n",
        "           erro=auxi\n",
        "   return erro"
      ],
      "execution_count": 10,
      "outputs": []
    },
    {
      "cell_type": "code",
      "metadata": {
        "id": "RuX56SyJtr_u",
        "colab": {
          "base_uri": "https://localhost:8080/"
        },
        "outputId": "4bd45879-999b-40dc-e5e0-8861bbee7513"
      },
      "source": [
        " \n",
        "B=np.matrix([[1, 2, 4], [3, 8, 14], [2, 6, 13]])\n",
        "Av, vv, In=LeverrierFaddeev(B)\n",
        "print(\"autovalores\")\n",
        "print(Av)\n",
        "#print(vv)\n",
        "#print(In)\n",
        "av, y=Potencia(B)\n",
        "print(\"maior autovalor\")\n",
        "print(av)\n",
        "#print(y)\n",
        "Av, y=PotenciaInv(B)\n",
        "print(\"menor autovalor\")\n",
        "print(Av)\n",
        "#print(y)\n",
        "Av=questao9(B,10**(-5))\n",
        "print(\"autovalores\")\n",
        "print(Av)\n",
        "K, H=Deflacao(B)\n",
        "print(\"autovalores\")\n",
        "print(K)"
      ],
      "execution_count": 19,
      "outputs": [
        {
          "output_type": "stream",
          "text": [
            "autovalores\n",
            "[20.71028893  1.          0.28971107]\n",
            "maior autovalor\n",
            "20.709825700363442\n",
            "menor autovalor\n",
            "0.2897112553632714\n",
            "autovalores\n",
            "[20.7098113   1.00860828  0.28158041]\n",
            "autovalores\n",
            "[20.71024705  0.99916001  0.29118872]\n"
          ],
          "name": "stdout"
        }
      ]
    }
  ]
}