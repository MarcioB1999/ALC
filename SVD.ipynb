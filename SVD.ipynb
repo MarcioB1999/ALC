{
  "nbformat": 4,
  "nbformat_minor": 0,
  "metadata": {
    "colab": {
      "name": "SVD.ipynb",
      "provenance": [],
      "collapsed_sections": [],
      "authorship_tag": "ABX9TyN9PevtT8A8x4Pum4sROZyy",
      "include_colab_link": true
    },
    "kernelspec": {
      "name": "python3",
      "display_name": "Python 3"
    }
  },
  "cells": [
    {
      "cell_type": "markdown",
      "metadata": {
        "id": "view-in-github",
        "colab_type": "text"
      },
      "source": [
        "<a href=\"https://colab.research.google.com/github/MarcioB1999/ALC/blob/main/SVD.ipynb\" target=\"_parent\"><img src=\"https://colab.research.google.com/assets/colab-badge.svg\" alt=\"Open In Colab\"/></a>"
      ]
    },
    {
      "cell_type": "code",
      "metadata": {
        "colab": {
          "base_uri": "https://localhost:8080/"
        },
        "id": "c0-q0ULBtOra",
        "outputId": "2338ff68-93cf-45b4-8daa-318b5919fa2b"
      },
      "source": [
        "!pip install matplotlib-venn\n",
        "import numpy as np\n",
        "from matplotlib import pyplot as plt\n",
        "import os"
      ],
      "execution_count": null,
      "outputs": [
        {
          "output_type": "stream",
          "text": [
            "Requirement already satisfied: matplotlib-venn in /usr/local/lib/python3.6/dist-packages (0.11.6)\n",
            "Requirement already satisfied: scipy in /usr/local/lib/python3.6/dist-packages (from matplotlib-venn) (1.4.1)\n",
            "Requirement already satisfied: matplotlib in /usr/local/lib/python3.6/dist-packages (from matplotlib-venn) (3.2.2)\n",
            "Requirement already satisfied: numpy in /usr/local/lib/python3.6/dist-packages (from matplotlib-venn) (1.19.5)\n",
            "Requirement already satisfied: pyparsing!=2.0.4,!=2.1.2,!=2.1.6,>=2.0.1 in /usr/local/lib/python3.6/dist-packages (from matplotlib->matplotlib-venn) (2.4.7)\n",
            "Requirement already satisfied: kiwisolver>=1.0.1 in /usr/local/lib/python3.6/dist-packages (from matplotlib->matplotlib-venn) (1.3.1)\n",
            "Requirement already satisfied: python-dateutil>=2.1 in /usr/local/lib/python3.6/dist-packages (from matplotlib->matplotlib-venn) (2.8.1)\n",
            "Requirement already satisfied: cycler>=0.10 in /usr/local/lib/python3.6/dist-packages (from matplotlib->matplotlib-venn) (0.10.0)\n",
            "Requirement already satisfied: six>=1.5 in /usr/local/lib/python3.6/dist-packages (from python-dateutil>=2.1->matplotlib->matplotlib-venn) (1.15.0)\n"
          ],
          "name": "stdout"
        }
      ]
    },
    {
      "cell_type": "markdown",
      "metadata": {
        "id": "P3_HYy0EUvMy"
      },
      "source": [
        "**Pseudo Inversa**"
      ]
    },
    {
      "cell_type": "markdown",
      "metadata": {
        "id": "uxZHBEW-ZVPV"
      },
      "source": [
        "**Manual**: \\\\\n",
        "A função precisa ser chamada com o parâmetro $\\mathbf{A} \\in M\\left(m\\times n\\right)$. A função retorna a matriz pseudo-inversa $\\mathbf{A}^{+}\\in M\\left(n\\times m\\right)$."
      ]
    },
    {
      "cell_type": "code",
      "metadata": {
        "id": "gjNmHv6HtNdm"
      },
      "source": [
        "def PseudoIn(A):\n",
        "   m=np.shape(A)[0]\n",
        "   n=np.shape(A)[1]\n",
        "   if(m<n):\n",
        "       p=m\n",
        "   else:\n",
        "       p=n\n",
        "   u, s, v=np.linalg.svd(A, full_matrices=True)\n",
        "   S=np.zeros((n,m))\n",
        "   for i in range(p):\n",
        "      S[i,i]=1/s[i]\n",
        "   PI=v.dot(S.dot(u.transpose()))\n",
        "   return PI"
      ],
      "execution_count": null,
      "outputs": []
    },
    {
      "cell_type": "markdown",
      "metadata": {
        "id": "lIv_Kt089YAg"
      },
      "source": [
        "**Matriz de Posto K**"
      ]
    },
    {
      "cell_type": "markdown",
      "metadata": {
        "id": "cCbOr6wFClvA"
      },
      "source": [
        "**Manual**: \\\\\n",
        "A função precisa ser chamada com os parâmetros $\\mathbf{A}$ e $k$, nessa sequência. Onde $\\mathbf{A} \\in M\\left(m\\times n\\right)$, enquanto $k$, é um inteiro positivo, que define o posto da matriz retornada . A função retorna a matriz $\\mathbf{A}_{k}\\in M\\left(m\\times n\\right)$ de posto $k$ mais próxima de $\\mathbf{A}$."
      ]
    },
    {
      "cell_type": "code",
      "metadata": {
        "id": "W6md02-S9aTs"
      },
      "source": [
        "def Ak(A, k):\n",
        "    m=np.shape(A)[0]\n",
        "    n=np.shape(A)[1]\n",
        "    u, s, v=np.linalg.svd(A, full_matrices=True)\n",
        "    S=np.zeros((m,n))\n",
        "    for i in range(k):\n",
        "        S[i,i]=s[i]\n",
        "    Ak=u.dot(S.dot(v))\n",
        "    return Ak"
      ],
      "execution_count": null,
      "outputs": []
    },
    {
      "cell_type": "markdown",
      "metadata": {
        "id": "FBzWrtix9jvi"
      },
      "source": [
        "**Decomposição SVD**"
      ]
    },
    {
      "cell_type": "markdown",
      "metadata": {
        "id": "8WcKu94aEaeJ"
      },
      "source": [
        "**Manual**: \\\\\n",
        "A função precisa ser chamada com os parâmetros $\\mathbf{A} \\in M\\left(n\\times n\\right)$. A função retorna as matrizes da decomposição SVD dadas por $\\mathbf{U}\\in M\\left(n\\times n\\right)$, $\\mathbf{\\Sigma}\\in M\\left(n\\times n\\right)$ e $\\mathbf{V}^{t}\\in M\\left(n\\times n\\right)$, retornadas nessa sequência."
      ]
    },
    {
      "cell_type": "code",
      "metadata": {
        "id": "OxbAYay59nVw"
      },
      "source": [
        "def SVD(A):\n",
        "     n=np.shape(A)[0]\n",
        "     H=np.zeros((2*n,2*n))\n",
        "     H[0:n,n:2*n]=A.transpose()\n",
        "     H[n:2*n,0:n]=A\n",
        "     av, AV=np.linalg.eigh(H)\n",
        "     U=np.zeros((n,n))\n",
        "     V=np.zeros((n,n))\n",
        "     S=np.zeros((n,n))\n",
        "     for i in range(n):\n",
        "        U[0:n,i]=(2**(1/2))*AV[n:2*n,2*n-1-i]\n",
        "        V[0:n,i]=(2**(1/2))*AV[0:n,2*n-1-i]\n",
        "        S[i,i]=av[2*n-1-i]\n",
        "     return U, S, V.transpose()"
      ],
      "execution_count": null,
      "outputs": []
    },
    {
      "cell_type": "markdown",
      "metadata": {
        "id": "jrcxBgck6JCa"
      },
      "source": [
        "**Posto de A**"
      ]
    },
    {
      "cell_type": "markdown",
      "metadata": {
        "id": "tM7d9SbhF2BI"
      },
      "source": [
        "**Manual**: \\\\\n",
        "A função precisa ser chamada com o parâmetro $\\mathbf{A} \\in M\\left(m\\times n\\right)$. A função retorna o posto da matriz dada."
      ]
    },
    {
      "cell_type": "code",
      "metadata": {
        "id": "QSOcfFBN6Mqx"
      },
      "source": [
        " \n",
        "def posto(A):\n",
        "     m=np.shape(A)[0]\n",
        "     n=np.shape(A)[1]\n",
        "     posto=0\n",
        "     erro=1*(10**(-15))\n",
        "     if(m<n):\n",
        "       p=m\n",
        "     else:\n",
        "       p=n\n",
        "     u, s, v=np.linalg.svd(A, full_matrices=True)\n",
        "     for i in range(p):\n",
        "        if(abs(s[i])>erro):\n",
        "           posto=posto+1\n",
        "     return posto"
      ],
      "execution_count": null,
      "outputs": []
    },
    {
      "cell_type": "markdown",
      "metadata": {
        "id": "qFyV7cXokHUi"
      },
      "source": [
        "**Comparador**"
      ]
    },
    {
      "cell_type": "markdown",
      "metadata": {
        "id": "H46CTK6OZG5o"
      },
      "source": [
        "**Manual** \\\\\n",
        "So precisa ser chamada sem nenhum parâmetro e era retorna false ou true, caso as matrizes comparadas sejam diferentes ou iguais respectivamente. A ordem de comparação é $\\mathbf{U}$, $\\mathbf{S}$ e $\\mathbf{V}^{t}$, de cada uma das matrizes."
      ]
    },
    {
      "cell_type": "code",
      "metadata": {
        "id": "gG5AVBgMSrSo"
      },
      "source": [
        "def comparador():\n",
        "  A=np.random.rand(5,3)\n",
        "  U, S, V=np.linalg.svd(A, full_matrices=True)\n",
        "  u, s, v=np.linalg.svd(questao13(A, 5, 3), full_matrices=True)\n",
        "  print((U==u).all())\n",
        "  print((S==s).all())\n",
        "  print((V==v).all())"
      ],
      "execution_count": null,
      "outputs": []
    }
  ]
}