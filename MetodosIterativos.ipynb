{
  "nbformat": 4,
  "nbformat_minor": 0,
  "metadata": {
    "colab": {
      "name": "MetodosIterativos.ipynb",
      "provenance": [],
      "collapsed_sections": [],
      "authorship_tag": "ABX9TyOpdkGP1KdZJEifufVES2Bj",
      "include_colab_link": true
    },
    "kernelspec": {
      "name": "python3",
      "display_name": "Python 3"
    },
    "language_info": {
      "name": "python"
    }
  },
  "cells": [
    {
      "cell_type": "markdown",
      "metadata": {
        "id": "view-in-github",
        "colab_type": "text"
      },
      "source": [
        "<a href=\"https://colab.research.google.com/github/MarcioB1999/ALC/blob/main/MetodosIterativos.ipynb\" target=\"_parent\"><img src=\"https://colab.research.google.com/assets/colab-badge.svg\" alt=\"Open In Colab\"/></a>"
      ]
    },
    {
      "cell_type": "code",
      "metadata": {
        "id": "n3m9aYpH8Swm"
      },
      "source": [
        "from scipy.linalg import orth\n",
        "import numpy as np\n",
        "from numpy.linalg import matrix_rank\n",
        "from numpy import linalg as LA\n",
        "from scipy import linalg as la\n",
        "from scipy.linalg import schur, eigvals\n",
        "from scipy.linalg import tril\n",
        "from scipy.linalg import triu"
      ],
      "execution_count": null,
      "outputs": []
    },
    {
      "cell_type": "markdown",
      "metadata": {
        "id": "urx_sBO_p0Of"
      },
      "source": [
        "**Função 1**"
      ]
    },
    {
      "cell_type": "markdown",
      "metadata": {
        "id": "rCBBqf-4qBcm"
      },
      "source": [
        "A função 1, recebe como parâmetro o vetor $\\mathbf{v} \\in \\mathbb{R}^{n}$. O retorno vai ser uma matriz, na qual os autovalores são os elementos d $\\mathbf{v}$."
      ]
    },
    {
      "cell_type": "code",
      "metadata": {
        "id": "MKspEFXgpzOh"
      },
      "source": [
        "def funcao1(v):\n",
        "  n=np.shape(v)[0]\n",
        "  G=np.zeros((n,n))\n",
        "  for i in range(n):\n",
        "     G[i,i]=v[i]\n",
        "  A=np.random.rand(n,n)\n",
        "  while(matrix_rank(A)!=n):\n",
        "     A=np.random.rand(n,n)\n",
        "  Q=orth(A)\n",
        "  Aux=(Q.T).dot(G.dot(Q))\n",
        "  return Aux"
      ],
      "execution_count": null,
      "outputs": []
    },
    {
      "cell_type": "markdown",
      "metadata": {
        "id": "CCy-wgDOrfJ0"
      },
      "source": [
        "**Função 2**"
      ]
    },
    {
      "cell_type": "markdown",
      "metadata": {
        "id": "yq-f-hHookea"
      },
      "source": [
        "**Manual**:  \n",
        "A função 2, recebe como parâmetro o valor $n$, da dimensão da matriz retornada. A matriz retornada é $\\mathbf{A} \\in M\\left(n\\times n\\right)$, aleatória, simétrica definida positiva."
      ]
    },
    {
      "cell_type": "code",
      "metadata": {
        "id": "jCz4cZfTrenJ"
      },
      "source": [
        "def questao7(n):\n",
        "   v=np.random.randint(low=1, high=100, size=n)\n",
        "   return questao6(v)"
      ],
      "execution_count": null,
      "outputs": []
    },
    {
      "cell_type": "markdown",
      "metadata": {
        "id": "CdHaP7UcHKy2"
      },
      "source": [
        "**Método SOR**"
      ]
    },
    {
      "cell_type": "markdown",
      "metadata": {
        "id": "zzcpRyaxjrtw"
      },
      "source": [
        "**Manual**: \\\\\n",
        "A função precisa ser chamada com os parâmetros $\\mathbf{A}$, $\\mathbf{b}$, $w$ e $e$, nessa sequência. Onde $\\mathbf{A} \\in M\\left(n\\times n\\right)$, simétrica definida positiva, $\\mathbf{b} \\in \\mathbb{R}^{n}$, $w$ e $e$ positivos, onde $e$ é o erro. A função retorna $\\mathbf{x} \\in \\mathbb{R}^{n}$ que é solução do sistema linear $\\mathbf{Ax}=\\mathbf{b}$."
      ]
    },
    {
      "cell_type": "code",
      "metadata": {
        "id": "hJRQ7P8kHM7g"
      },
      "source": [
        " \n",
        "def SOR(A, b, w, e):\n",
        "   n=np.shape(A)[0]\n",
        "   b=np.array(b)\n",
        "   L=tril(A,-1)\n",
        "   U=triu(A,1)\n",
        "   D=np.diag(np.diag(A))\n",
        "   M=L+(1/w)*D\n",
        "   InM=la.inv(M)\n",
        "   N=((1-w)/w)*D-U\n",
        "   x=np.random.randint(100, size=n)\n",
        "   erro=10\n",
        "   i=0\n",
        "   while(erro>e):\n",
        "       xant=x\n",
        "       x=InM.dot((N.dot(x.transpose())+b.transpose()))\n",
        "       erro=LA.norm(x-xant)\n",
        "   return x"
      ],
      "execution_count": null,
      "outputs": []
    },
    {
      "cell_type": "markdown",
      "metadata": {
        "id": "orecsn8YT8N3"
      },
      "source": [
        "**Método Gradiente**"
      ]
    },
    {
      "cell_type": "markdown",
      "metadata": {
        "id": "71ecYLJ7m2fi"
      },
      "source": [
        "**Manual**: \\\\\n",
        "A função precisa ser chamada com os parâmetros $\\mathbf{A}$, $\\mathbf{b}$, $\\alpha$ e $e$, nessa sequência. Onde $\\mathbf{A} \\in M\\left(n\\times n\\right)$, simétrica definida positiva, $\\mathbf{b} \\in \\mathbb{R}^{n}$, $\\alpha$ e $e$ positivos, onde $e$ é o erro. A função retorna $\\mathbf{x} \\in \\mathbb{R}^{n}$ que é solução do sistema linear $\\mathbf{Ax}=\\mathbf{b}$."
      ]
    },
    {
      "cell_type": "code",
      "metadata": {
        "id": "RsFWAgb5T-do"
      },
      "source": [
        "def Gradiente(A, b, alp, e):\n",
        "    n=np.shape(A)[0]\n",
        "    b=np.array(b)\n",
        "    M=(1/alp)*np.eye(np.shape(A)[0])\n",
        "    N=M-A\n",
        "    x=np.random.randint(100, size=n)\n",
        "    erro=10\n",
        "    InM=la.inv(M)\n",
        "    i=0\n",
        "    while(erro>e):\n",
        "       xant=x\n",
        "       x=InM.dot((N.dot(x.transpose())+b.transpose()))\n",
        "       erro=LA.norm(x-xant)\n",
        "    return x"
      ],
      "execution_count": null,
      "outputs": []
    },
    {
      "cell_type": "markdown",
      "metadata": {
        "id": "N17fg1xYaHJy"
      },
      "source": [
        "**Método Gradiente Conjugado**"
      ]
    },
    {
      "cell_type": "markdown",
      "metadata": {
        "id": "Lq8P8tkXn6KG"
      },
      "source": [
        "**Manual**: \\\\\n",
        "A função precisa ser chamada com os parâmetros $\\mathbf{A}$, $\\mathbf{b}$ e $e$, nessa sequência. Onde $\\mathbf{A} \\in M\\left(n\\times n\\right)$, simétrica definida positiva, $\\mathbf{b} \\in \\mathbb{R}^{n}$, $e$ positivo, onde $e$ é o erro. A função retorna $\\mathbf{x} \\in \\mathbb{R}^{n}$ que é solução do sistema linear $\\mathbf{Ax}=\\mathbf{b}$. \\\\\n",
        "**Obs: Ele não realiza o pré-condicionador**"
      ]
    },
    {
      "cell_type": "code",
      "metadata": {
        "id": "OdC7yN1vbo6L"
      },
      "source": [
        "def GrandienteConj(A, b, e):\n",
        "     n=np.shape(A)[0]\n",
        "     x=np.random.randint(100, size=n)\n",
        "     r=b-A.dot(x.T)\n",
        "     p=r\n",
        "     erro=(r.T).dot(r)\n",
        "     while(erro>e):\n",
        "         alp=(r.T).dot(r)/((p.T).dot(A.dot(p)))\n",
        "         aux=r\n",
        "         x=x+alp*p\n",
        "         r=r-alp*(A.dot(p))\n",
        "         bet=((r.T).dot(r))/((aux.T).dot(aux))\n",
        "         p=r+bet*p\n",
        "         erro=(r.T).dot(r)\n",
        "     return x"
      ],
      "execution_count": null,
      "outputs": []
    },
    {
      "cell_type": "markdown",
      "metadata": {
        "id": "Exmc6SgaQ3O6"
      },
      "source": [
        "**Método Jacobi**"
      ]
    },
    {
      "cell_type": "markdown",
      "metadata": {
        "id": "wNN4BjhmQ3bv"
      },
      "source": [
        "**Manual**: \\\\\n",
        "A função precisa ser chamada com os parâmetros $\\mathbf{A}$, $\\mathbf{b}$, e $e$, nessa sequência. Onde $\\mathbf{A} \\in M\\left(n\\times n\\right)$, simétrica definida positiva, $\\mathbf{b} \\in \\mathbb{R}^{n}$, $e$ positivo, denominado $e$ como erro. A função retorna $\\mathbf{x} \\in \\mathbb{R}^{n}$ que é solução do sistema linear $\\mathbf{Ax}=\\mathbf{b}$."
      ]
    },
    {
      "cell_type": "code",
      "metadata": {
        "id": "dU3fftO7ElNH"
      },
      "source": [
        "def Jacob(A, b, e):\n",
        "   n=np.shape(A)[0]\n",
        "   b=np.array(b)\n",
        "   L=tril(A,-1)\n",
        "   U=triu(A,1)\n",
        "   D=np.diag(np.diag(A))\n",
        "   M=D[:]\n",
        "   N=-1*(L+U)\n",
        "   InM=la.inv(M)\n",
        "   x=np.random.randint(100, size=n)\n",
        "   erro=10\n",
        "   while(erro>e):\n",
        "       xant=x\n",
        "       x=InM.dot((N.dot(x.transpose())+b.transpose()))\n",
        "       erro=LA.norm(x-xant)/LA.norm(x)\n",
        "   return x"
      ],
      "execution_count": null,
      "outputs": []
    },
    {
      "cell_type": "markdown",
      "metadata": {
        "id": "mmgTetY7RQ6a"
      },
      "source": [
        "**Método de Gauss Seidel**"
      ]
    },
    {
      "cell_type": "markdown",
      "metadata": {
        "id": "ZA0eV4r7RRGD"
      },
      "source": [
        "**Manual**: \\\\\n",
        "A função precisa ser chamada com os parâmetros $\\mathbf{A}$, $\\mathbf{b}$, e $e$, nessa sequência. Onde $\\mathbf{A} \\in M\\left(n\\times n\\right)$, simétrica definida positiva, $\\mathbf{b} \\in \\mathbb{R}^{n}$, $e$ positivo, denominado $e$ como erro. A função retorna $\\mathbf{x} \\in \\mathbb{R}^{n}$ que é solução do sistema linear $\\mathbf{Ax}=\\mathbf{b}$."
      ]
    },
    {
      "cell_type": "code",
      "metadata": {
        "id": "UR4cGLsK7ENj"
      },
      "source": [
        "def GaussSe(A, b, e):\n",
        "   n=np.shape(A)[0]\n",
        "   b=np.array(b)\n",
        "   L=tril(A,-1)\n",
        "   U=triu(A,1)\n",
        "   D=np.diag(np.diag(A))\n",
        "   M=L+D\n",
        "   N=-U\n",
        "   InM=la.inv(M)\n",
        "   x=np.random.randint(100, size=n)\n",
        "   erro=10\n",
        "   while(erro>e):\n",
        "       xant=x\n",
        "       x=InM.dot((N.dot(x.transpose())+b.transpose()))\n",
        "       erro=LA.norm(x-xant)/LA.norm(x)\n",
        "   return x"
      ],
      "execution_count": null,
      "outputs": []
    },
    {
      "cell_type": "code",
      "metadata": {
        "id": "pHkaNC7DhEWF"
      },
      "source": [
        " \n",
        "A=np.array([[2, 1, 1], [1, 2, 1], [1, 1, 3]])\n",
        "b=[3, 0, 8]\n",
        "c=[6, 20]\n",
        "w=1.085\n",
        "e=10**(-8)\n",
        "alp=0.37\n",
        "#print(eigvals(questao6(c)))\n",
        "print(questao7(2))\n",
        "#print(questao8(A, b, w, e))\n",
        "#print(questao9(A, b, alp, e))\n",
        "#print(questao10(A, b, e))\n",
        " \n",
        "#para rodar os códigos abaixo necessita\n",
        "#da variável para contar iterações, e o retorno dela\n",
        "#nas funções\n",
        "\"\"\"aux=np.zeros(100000)\n",
        "for i in range(100000):\n",
        "    aux[i]=questao8(A, b, w, e) #SOR\n",
        "print(\"SOR\")\n",
        "print(aux)\n",
        "print(np.median(aux))\n",
        "for i in range(100000):\n",
        "    aux[i]=questao9(A, b, alp, e) #Gradiente\n",
        "print(\"Gradiente\")\n",
        "print(aux)\n",
        "print(np.median(aux))\n",
        "for i in range(100000):\n",
        "    aux[i]=questao10(A, b, e) #Gradiente\n",
        "print(\"Gradiente Conjugado\")\n",
        "print(aux)\n",
        "print(np.median(aux))\n",
        "for i in range(100000):\n",
        "    aux[i]=Jacob(A, b, e)\n",
        "print(\"Jacobi\")\n",
        "print(aux)\n",
        "print(np.median(aux))\n",
        "for i in range(100000):\n",
        "    aux[i]=GaussSe(A, b, e) #Gradiente\n",
        "print(\"Gauss Seidel\")\n",
        "print(aux)\n",
        "print(np.median(aux))\"\"\""
      ],
      "execution_count": null,
      "outputs": []
    }
  ]
}