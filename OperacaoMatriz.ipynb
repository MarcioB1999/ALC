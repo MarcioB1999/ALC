{
  "nbformat": 4,
  "nbformat_minor": 0,
  "metadata": {
    "colab": {
      "name": "OperacaoMatriz.ipynb",
      "provenance": [],
      "collapsed_sections": [],
      "include_colab_link": true
    },
    "kernelspec": {
      "name": "python3",
      "display_name": "Python 3"
    }
  },
  "cells": [
    {
      "cell_type": "markdown",
      "metadata": {
        "id": "view-in-github",
        "colab_type": "text"
      },
      "source": [
        "<a href=\"https://colab.research.google.com/github/MarcioB1999/ALC/blob/main/OperacaoMatriz.ipynb\" target=\"_parent\"><img src=\"https://colab.research.google.com/assets/colab-badge.svg\" alt=\"Open In Colab\"/></a>"
      ]
    },
    {
      "cell_type": "code",
      "metadata": {
        "colab": {
          "base_uri": "https://localhost:8080/"
        },
        "id": "bxnJ63f9bodj",
        "outputId": "ed8ea8e6-76a2-4bf0-ec79-42bf20e18464"
      },
      "source": [
        "!pip install matplotlib-venn\n",
        "import numpy as np\n",
        "from matplotlib import pyplot as plt\n",
        "import os"
      ],
      "execution_count": null,
      "outputs": [
        {
          "output_type": "stream",
          "text": [
            "Requirement already satisfied: matplotlib-venn in /usr/local/lib/python3.6/dist-packages (0.11.6)\n",
            "Requirement already satisfied: numpy in /usr/local/lib/python3.6/dist-packages (from matplotlib-venn) (1.19.5)\n",
            "Requirement already satisfied: scipy in /usr/local/lib/python3.6/dist-packages (from matplotlib-venn) (1.4.1)\n",
            "Requirement already satisfied: matplotlib in /usr/local/lib/python3.6/dist-packages (from matplotlib-venn) (3.2.2)\n",
            "Requirement already satisfied: python-dateutil>=2.1 in /usr/local/lib/python3.6/dist-packages (from matplotlib->matplotlib-venn) (2.8.1)\n",
            "Requirement already satisfied: pyparsing!=2.0.4,!=2.1.2,!=2.1.6,>=2.0.1 in /usr/local/lib/python3.6/dist-packages (from matplotlib->matplotlib-venn) (2.4.7)\n",
            "Requirement already satisfied: kiwisolver>=1.0.1 in /usr/local/lib/python3.6/dist-packages (from matplotlib->matplotlib-venn) (1.3.1)\n",
            "Requirement already satisfied: cycler>=0.10 in /usr/local/lib/python3.6/dist-packages (from matplotlib->matplotlib-venn) (0.10.0)\n",
            "Requirement already satisfied: six>=1.5 in /usr/local/lib/python3.6/dist-packages (from python-dateutil>=2.1->matplotlib->matplotlib-venn) (1.15.0)\n"
          ],
          "name": "stdout"
        }
      ]
    },
    {
      "cell_type": "markdown",
      "metadata": {
        "id": "FiShh1yl8347"
      },
      "source": [
        "# Questão 1#"
      ]
    },
    {
      "cell_type": "markdown",
      "metadata": {
        "id": "ZgbHpJHPa8_w"
      },
      "source": [
        "Manual: \\\\\n",
        "Os dados de entrada serão os valores $\\left\\{m,n\\right\\}$ que irão definir a dimensão da matriz $\\mathbf{A} \\in M\\left(2m\\times 2n\\right)$. Em seguida deverá ser fornecido cada elemento da matriz $\\mathbf{A}$, onde vamos preencher cada elemento de coluna em coluna da matriz. Ao término será devolvido a matriz $\\mathbf{B} \\in M\\left(2m\\times 2n\\right)$ resultante, que será mostrada no terminal logo após a matriz dada ser mostrada."
      ]
    },
    {
      "cell_type": "code",
      "metadata": {
        "id": "UF1XaJha87A5",
        "colab": {
          "base_uri": "https://localhost:8080/"
        },
        "outputId": "1be3d87b-df08-4fb4-bc8f-621128551a8b"
      },
      "source": [
        " \n",
        "n=int(input('coloque o valor de n '))\n",
        "m=int(input('coloque o valor de m '))\n",
        "A=np.zeros((2*m,2*n))\n",
        "B=np.zeros((2*m,2*n))\n",
        "for i in range(2*n):\n",
        "  for j in range(2*m):\n",
        "     print('coloque o valor de A[',j,',',i,']')\n",
        "     A[j,i]=int(input())\n",
        "print('sua matriz')\n",
        "print(A)\n",
        "B[0:m,0:n]=A[0:m,n:2*n]\n",
        "B[0:m,n:2*n]=A[m:2*m,n:2*n]\n",
        "B[m:2*m,n:2*n]=A[m:2*m,0:n]\n",
        "B[m:2*m,0:n]=A[0:m,0:n]\n",
        "print('matriz resultante')\n",
        "print(B)"
      ],
      "execution_count": null,
      "outputs": [
        {
          "output_type": "stream",
          "text": [
            "coloque o valor de n 1\n",
            "coloque o valor de m 1\n",
            "coloque o valor de A[ 0 , 0 ]\n",
            "1\n",
            "coloque o valor de A[ 1 , 0 ]\n",
            "2\n",
            "coloque o valor de A[ 0 , 1 ]\n",
            "3\n",
            "coloque o valor de A[ 1 , 1 ]\n",
            "4\n",
            "sua matriz\n",
            "[[1. 3.]\n",
            " [2. 4.]]\n",
            "matriz resultante\n",
            "[[3. 4.]\n",
            " [1. 2.]]\n"
          ],
          "name": "stdout"
        }
      ]
    },
    {
      "cell_type": "markdown",
      "metadata": {
        "id": "9HUX3_achQdM"
      },
      "source": [
        "Relatório: \\\\\n",
        "Sendo $n=1$ e $m=1$, vamos ter $\\mathbf{A} \\in M\\left(2\\times 2\\right)$ dada por\n",
        "$\n",
        "\\mathbf{A}=\\left(\\begin{array}{cc}\n",
        "1& 3\\\\\n",
        "2& 4\n",
        "\\end{array}\\right)$\n",
        ".  $\\mathbf{B} \\in M\\left(2\\times 2\\right)$ sua matriz resultante dada por \n",
        "$\n",
        "\\mathbf{B}=\\left(\\begin{array}{cc}\n",
        "3& 4\\\\\n",
        "1& 2\n",
        "\\end{array}\\right)$"
      ]
    },
    {
      "cell_type": "markdown",
      "metadata": {
        "id": "hnhBbgODnSKC"
      },
      "source": [
        "#Questão 6"
      ]
    },
    {
      "cell_type": "markdown",
      "metadata": {
        "id": "8dPfJAjWmCNx"
      },
      "source": [
        "Manual: \\\\\n",
        "Primeiro deverá ser fornecido os valores de $n$ e $k$ respectivamente, na qual $n$ definirá a dimensão do vetor $\\mathbf{v} \\in \\mathbb{R}^{n+1}$, e a dimensão da matriz $\\mathbf{A}$ em junção de k, sendo $\\mathbf{A} \\in M\\left(k\\times n+1\\right)$.Ao definir a dimensão de $\\mathbf{v}$, deverá preencher $\\mathbf{v}$, elemento por elemento. E ao final será mostrado no terminal o seu vetor dado e a matriz resultante, respectivamente."
      ]
    },
    {
      "cell_type": "code",
      "metadata": {
        "id": "sTco-iPenVpI",
        "colab": {
          "base_uri": "https://localhost:8080/"
        },
        "outputId": "69707063-2000-4d63-b5bf-291eb18aaf04"
      },
      "source": [
        "n=int(input('coloque o valor de n '))\n",
        "v=[]\n",
        "k=int(input('coloque o valor de k '))\n",
        "for i in range(n+1):\n",
        "  v.append(int(input(\"preencha o vetor\")))\n",
        "A=np.ones((k,n+1))\n",
        "for i in range(k):\n",
        "  A[i, : ]=v\n",
        "print('seu vetor é dado por')\n",
        "print(v)\n",
        "print('matriz resultante')\n",
        "print(A)"
      ],
      "execution_count": null,
      "outputs": [
        {
          "output_type": "stream",
          "text": [
            "coloque o valor de n 1\n",
            "coloque o valor de k 2\n",
            "preencha o vetor1\n",
            "preencha o vetor2\n",
            "seu vetor é dado por\n",
            "[1, 2]\n",
            "matriz resultante\n",
            "[[1. 2.]\n",
            " [1. 2.]]\n"
          ],
          "name": "stdout"
        }
      ]
    },
    {
      "cell_type": "markdown",
      "metadata": {
        "id": "pf-wBRWmrig0"
      },
      "source": [
        " Relatório: \\\\\n",
        "Sendo $n=1$ e $k=2$, temos que $\\mathbf{v} \\in \\mathbb{R}^{2}$ e $\\mathbf{A} \\in M\\left(2\\times 2\\right)$, dados por $\\mathbf{v}=\\left(\\begin{array}{cc}\n",
        "1& 2\n",
        "\\end{array}\\right)$\n",
        "e matriz resultante\n",
        "$\\mathbf{A}=\\left(\\begin{array}{cc}\n",
        "1& 2\\\\\n",
        "1& 2\n",
        "\\end{array}\\right)$"
      ]
    },
    {
      "cell_type": "markdown",
      "metadata": {
        "id": "18ULhF8BnB-H"
      },
      "source": [
        "#Questão 7"
      ]
    },
    {
      "cell_type": "markdown",
      "metadata": {
        "id": "ZZW6abc5uEr8"
      },
      "source": [
        "Manual: \\\\\n",
        "Primeiro deverá ser fornecido os valores de $n$ e $k$ respectivamente, na qual $n$ definirá a dimensão do vetor $\\mathbf{v} \\in \\mathbb{R}^{n+1}$, e a dimensão da matriz $\\mathbf{A}$ em junção de k, sendo $\\mathbf{A} \\in M\\left(n+1\\times k\\right)$.Ao definir a dimensão de $\\mathbf{v}$, deverá preencher $\\mathbf{v}$, elemento por elemento. E ao final será mostrado no terminal o seu vetor dado e a matriz resultante, respectivamente."
      ]
    },
    {
      "cell_type": "code",
      "metadata": {
        "id": "oW09WksxnGrU",
        "colab": {
          "base_uri": "https://localhost:8080/"
        },
        "outputId": "1d1f7aec-f18d-4b85-8cb9-ecdbcc704f24"
      },
      "source": [
        "n=int(input('coloque o valor de n '))\n",
        "v=[]\n",
        "k=int(input('coloque o valor de k '))\n",
        "for i in range(n+1):\n",
        "  v.append(int(input(\"preencha o vetor\")))\n",
        "A=np.ones((k,n+1))\n",
        "for i in range(k):\n",
        "  A[ : ,i]=v\n",
        "print('seu vetor é dado por')\n",
        "print(v)\n",
        "print('matriz resultante')\n",
        "print(A)"
      ],
      "execution_count": null,
      "outputs": [
        {
          "output_type": "stream",
          "text": [
            "coloque o valor de n 1\n",
            "coloque o valor de k 2\n",
            "preencha o vetor1\n",
            "preencha o vetor2\n",
            "seu vetor é dado por\n",
            "[1, 2]\n",
            "matriz resultante\n",
            "[[1. 1.]\n",
            " [2. 2.]]\n"
          ],
          "name": "stdout"
        }
      ]
    },
    {
      "cell_type": "markdown",
      "metadata": {
        "id": "HI8t-Wm_uW9R"
      },
      "source": [
        "Relatório: \\\\\n",
        "Sendo $n=1$ e $k=2$, temos que $\\mathbf{v} \\in \\mathbb{R}^{2}$ e $\\mathbf{A} \\in M\\left(2\\times 2\\right)$, dados por $\\mathbf{v}=\\left(\\begin{array}{cc}\n",
        "1& 2\n",
        "\\end{array}\\right)$\n",
        "e matriz resultante\n",
        "$\\mathbf{A}=\\left(\\begin{array}{cc}\n",
        "1& 1\\\\\n",
        "2& 2\n",
        "\\end{array}\\right)$"
      ]
    },
    {
      "cell_type": "markdown",
      "metadata": {
        "id": "UPvzbBKxlcOJ"
      },
      "source": [
        "#Questão 8"
      ]
    },
    {
      "cell_type": "markdown",
      "metadata": {
        "id": "-9DrqObIUvK7"
      },
      "source": [
        "Manual: \\\\\n",
        "Primeiro deverá ser fornecido os valores de $n$ e $k$ respectivamente, na qual $n$ definirá a dimensão do vetor $\\mathbf{v} \\in \\mathbb{R}^{n+1}$, e a dimensão da matriz $\\mathbf{A}$ em junção de k, sendo $\\mathbf{A} \\in M\\left(n+1\\times k+1\\right)$.Ao definir a dimensão de $\\mathbf{v}$, deverá preencher $\\mathbf{v}$, elemento por elemento. E ao final será mostrado no terminal o seu vetor dado e a matriz resultante, respectivamente."
      ]
    },
    {
      "cell_type": "code",
      "metadata": {
        "id": "hTh7YjpvmpxU",
        "colab": {
          "base_uri": "https://localhost:8080/"
        },
        "outputId": "fb9c7954-c31b-442f-9f98-d42f49baf50d"
      },
      "source": [
        " \n",
        "n=int(input('coloque o valor de n '))\n",
        "v=[]\n",
        "k=int(input('coloque o valor de k '))\n",
        "for i in range(n+1):\n",
        "  v.append(int(input(\"preencha o vetor\")))\n",
        "A=np.ones((n+1,k+1))\n",
        "for i in range(1,k+1):\n",
        "  aux=np.power(v,i)\n",
        "  A[ : ,i]=aux\n",
        "print('seu vetor é dado por')\n",
        "print(v)\n",
        "print('matriz resultante')\n",
        "print(A)"
      ],
      "execution_count": null,
      "outputs": [
        {
          "output_type": "stream",
          "text": [
            "coloque o valor de n 2\n",
            "coloque o valor de k 3\n",
            "preencha o vetor1\n",
            "preencha o vetor2\n",
            "preencha o vetor3\n",
            "seu vetor é dado por\n",
            "[1, 2, 3]\n",
            "matriz resultante\n",
            "[[ 1.  1.  1.  1.]\n",
            " [ 1.  2.  4.  8.]\n",
            " [ 1.  3.  9. 27.]]\n"
          ],
          "name": "stdout"
        }
      ]
    },
    {
      "cell_type": "markdown",
      "metadata": {
        "id": "yKrton9eWkOB"
      },
      "source": [
        "Relatório: \\\\\n",
        "Sendo $n=2$ e $k=3$, temos que $\\mathbf{v} \\in \\mathbb{R}^{3}$ e $\\mathbf{A} \\in M\\left(3\\times 4\\right)$, dados por $\\mathbf{v}=\\left(\\begin{array}{cc}\n",
        "1& 2 & 3\n",
        "\\end{array}\\right)$\n",
        "e matriz resultante\n",
        "$\\mathbf{A}=\\left(\\begin{array}{cc}\n",
        "1& 1&1&1\\\\\n",
        "1& 2&4&8 \\\\\n",
        "1&3&9&27\n",
        "\\end{array}\\right)$"
      ]
    },
    {
      "cell_type": "markdown",
      "metadata": {
        "id": "7wbJFtuMlYwK"
      },
      "source": [
        "#Questão 9"
      ]
    },
    {
      "cell_type": "markdown",
      "metadata": {
        "id": "8C7tbf3TYMDB"
      },
      "source": [
        "\n",
        "Manual: \\\\\n",
        "Basicamente é só rodar o código que será mostrada na tela, e será salvo o gráfico da função desejada como 'figura1.pdf'."
      ]
    },
    {
      "cell_type": "code",
      "metadata": {
        "id": "OTM5r0DNkuqG",
        "colab": {
          "base_uri": "https://localhost:8080/",
          "height": 285
        },
        "outputId": "347b4b4b-4520-44ad-f990-cfc0520cd4e1"
      },
      "source": [
        "x=np.arange(0.5 , 5.5 , 0.05)\n",
        "plt.plot(x,x**(5)-15*x**(4)+85*x**(3)-225*x**(2)+274*x-120)\n",
        "plt.plot(x,x*0)\n",
        "plt.savefig('figura1.pdf',format='pdf',bbox_inches='tight')\n",
        "plt.show()"
      ],
      "execution_count": null,
      "outputs": [
        {
          "output_type": "display_data",
          "data": {
            "image/png": "[encoded data removed]",
            "text/plain": [
              "<Figure size 432x288 with 1 Axes>"
            ]
          },
          "metadata": {
            "tags": [],
            "needs_background": "light"
          }
        }
      ]
    },
    {
      "cell_type": "markdown",
      "metadata": {
        "id": "Wzn7PXOVYopA"
      },
      "source": [
        "Relatório: \\\\\n",
        "Ocorreu tudo corretamente e foi salvo e foi salvo como pdf."
      ]
    },
    {
      "cell_type": "markdown",
      "metadata": {
        "id": "avEiFWN9dJiG"
      },
      "source": [
        "#Questão 10"
      ]
    },
    {
      "cell_type": "markdown",
      "metadata": {
        "id": "DNJwedl9bZA4"
      },
      "source": [
        "\n",
        "Manual: \\\\\n",
        "Basicamente é só rodar o código que será mostrada na tela, e será salvo o gráfico da função desejada como 'figura2.pdf'."
      ]
    },
    {
      "cell_type": "code",
      "metadata": {
        "id": "kpt4xpa41ZT8",
        "colab": {
          "base_uri": "https://localhost:8080/",
          "height": 196
        },
        "outputId": "d9d19f97-48fd-49ee-9ab8-78c43780a85a"
      },
      "source": [
        " \n",
        "x=np.arange(-1,1,0.1)\n",
        "y=np.arange(-1,1,0.1)\n",
        " \n",
        "x,y=np.meshgrid(x,y)\n",
        "z=x**(2)+y**(2)\n",
        "fig=plt.figure()\n",
        "ax=fig.gca(projection='3d')\n",
        "ax.plot_surface(x,y,z)\n",
        "plt.savefig('figura2.pdf',format='pdf',bbox_inches='tight')"
      ],
      "execution_count": null,
      "outputs": [
        {
          "output_type": "display_data",
          "data": {
            "image/png": "[encoded data removed]",
            "text/plain": [
              "<Figure size 432x288 with 1 Axes>"
            ]
          },
          "metadata": {
            "tags": [],
            "needs_background": "light"
          }
        }
      ]
    },
    {
      "cell_type": "markdown",
      "metadata": {
        "id": "Y__8sfqykio6"
      },
      "source": [
        "\n",
        "Relatório: \\\\\n",
        "Ocorreu tudo corretamente e foi salvo e foi salvo como pdf."
      ]
    },
    {
      "cell_type": "markdown",
      "metadata": {
        "id": "X-J7XfBZV-48"
      },
      "source": [
        "#Questão 11"
      ]
    },
    {
      "cell_type": "markdown",
      "metadata": {
        "id": "4AXdqhBsb2vB"
      },
      "source": [
        "Manual: \\\\\n",
        "Deverá ser fornecido $n$ e $m$, definindo a dimensão da matriz $\\mathbf{A} \\in M\\left(n\\times m\\right)$. Em seguida cada elemento da matriz deverá ser preenchido de linha por linha. Ao final mostrará no terminal a matriz dada e sua norma-1."
      ]
    },
    {
      "cell_type": "code",
      "metadata": {
        "id": "YQSDIOp6Tzt6",
        "colab": {
          "base_uri": "https://localhost:8080/"
        },
        "outputId": "a886c6cd-8cdd-48e6-f9ae-2538c7ada42e"
      },
      "source": [
        "aux=[]\n",
        "n=int(input('coloque o valor de n da matriz(nxm) '))\n",
        "m=int(input('coloque o valor de m da matriz(nxm) '))\n",
        "A=np.zeros((n,m))\n",
        "for i in range(n):\n",
        "  for j in range(m):\n",
        "    print('coloque o valor de A[',i,',',j,']')\n",
        "    A[i,j]=int(input())\n",
        "for j in range(m):\n",
        "  aux.append((np.sum([abs(A[i,j]) for i in range(n)])))\n",
        "print('sua matriz')\n",
        "print(A)\n",
        "print('valor resultante')\n",
        "print(np.max(aux))"
      ],
      "execution_count": null,
      "outputs": [
        {
          "output_type": "stream",
          "text": [
            "coloque o valor de n da matriz(nxm) 2\n",
            "coloque o valor de m da matriz(nxm) 2\n",
            "coloque o valor de A[ 0 , 0 ]\n",
            "1\n",
            "coloque o valor de A[ 0 , 1 ]\n",
            "1\n",
            "coloque o valor de A[ 1 , 0 ]\n",
            "2\n",
            "coloque o valor de A[ 1 , 1 ]\n",
            "2\n",
            "sua matriz\n",
            "[[1. 1.]\n",
            " [2. 2.]]\n",
            "valor resultante\n",
            "3.0\n"
          ],
          "name": "stdout"
        }
      ]
    },
    {
      "cell_type": "markdown",
      "metadata": {
        "id": "d4PlEdUNhjTU"
      },
      "source": [
        "Relatório: \\\\\n",
        "Sendo $n=2$ e $m=2$, temos que $\\mathbf{A} \\in M\\left(2\\times 2\\right)$, dada por\n",
        "$\\mathbf{A}=\\left(\\begin{array}{cc}\n",
        "1& 1\\\\\n",
        "2& 2 \\\\\n",
        "\\end{array}\\right)$ \n",
        "Assim obtemos o valor da norma-1$=3$"
      ]
    },
    {
      "cell_type": "markdown",
      "metadata": {
        "id": "qSrc0tSohueY"
      },
      "source": [
        "#Questão 12"
      ]
    },
    {
      "cell_type": "markdown",
      "metadata": {
        "id": "Gj_aIQ-Tiyvj"
      },
      "source": [
        "Manual: \\\\\n",
        "Deverá ser fornecido $n$ e $m$, definindo a dimensão da matriz $\\mathbf{A} \\in M\\left(n\\times m\\right)$. Em seguida cada elemento da matriz deverá ser preenchido de linha por linha. Ao final mostrará no terminal a matriz dada e sua norma-$\\infty$."
      ]
    },
    {
      "cell_type": "code",
      "metadata": {
        "id": "gBz2EsEqhxvu",
        "colab": {
          "base_uri": "https://localhost:8080/"
        },
        "outputId": "612e389a-3b8f-4448-a004-6e880392c7d2"
      },
      "source": [
        "aux=[]\n",
        "n=int(input('coloque o valor de n da matriz(nxm) '))\n",
        "m=int(input('coloque o valor de m da matriz(nxm) '))\n",
        "A=np.zeros((n,m))\n",
        "for i in range(n):\n",
        "  for j in range(m):\n",
        "    print('coloque o valor de A[',i,',',j,']')\n",
        "    A[i,j]=int(input())\n",
        "for j in range(n):\n",
        "  aux.append((np.sum([abs(A[i,j]) for j in range(m)])))\n",
        "print('sua matriz')\n",
        "print(A)\n",
        "print('valor resultante')\n",
        "print(np.max(aux))"
      ],
      "execution_count": null,
      "outputs": [
        {
          "output_type": "stream",
          "text": [
            "coloque o valor de n da matriz(nxm) 2\n",
            "coloque o valor de m da matriz(nxm) 2\n",
            "coloque o valor de A[ 0 , 0 ]\n",
            "1\n",
            "coloque o valor de A[ 0 , 1 ]\n",
            "1\n",
            "coloque o valor de A[ 1 , 0 ]\n",
            "2\n",
            "coloque o valor de A[ 1 , 1 ]\n",
            "2\n",
            "sua matriz\n",
            "[[1. 1.]\n",
            " [2. 2.]]\n",
            "valor resultante\n",
            "4.0\n"
          ],
          "name": "stdout"
        }
      ]
    },
    {
      "cell_type": "markdown",
      "metadata": {
        "id": "QYgWYNQRjN4f"
      },
      "source": [
        "Relatório: \\\\\n",
        "Sendo $n=2$ e $m=2$, temos que $\\mathbf{A} \\in M\\left(2\\times 2\\right)$, dada por\n",
        "$\\mathbf{A}=\\left(\\begin{array}{cc}\n",
        "1& 1\\\\\n",
        "2& 2 \\\\\n",
        "\\end{array}\\right)$ \n",
        "Assim obtemos o valor da norma-$\\infty=4$"
      ]
    },
    {
      "cell_type": "markdown",
      "metadata": {
        "id": "Mya81RzFALmK"
      },
      "source": [
        "#Questão 14"
      ]
    },
    {
      "cell_type": "markdown",
      "metadata": {
        "id": "XjmPhEBemJnE"
      },
      "source": [
        "Manual: \\\\\n",
        "Deverá primeiramente ser fornecido $n$ para definição da dimensão da matriz $\\mathbf{A} \\in M\\left(n\\times n\\right)$. Em seguida deverá ser fornecido cada valor dos elementos da matriz $\\mathbf{A}$ de modo que ela seja real e simétrica, tais valores serão preenchidos linha por linha da matriz. Ao término será mostrado no terminal a matriz dada e o maior autovalor, respectivamente."
      ]
    },
    {
      "cell_type": "code",
      "metadata": {
        "id": "hAOSKf0nAOVK",
        "colab": {
          "base_uri": "https://localhost:8080/"
        },
        "outputId": "b5c4b322-6148-4e45-ea57-4420fa4dd8ac"
      },
      "source": [
        "n=int(input('coloque o valor de n da matriz(nxn) '))\n",
        "A=np.zeros((n,n))\n",
        "for i in range(n):\n",
        "  for j in range(n):\n",
        "    print('coloque o valor de A[',i,',',j,']')\n",
        "    A[i,j]=int(input())\n",
        "v = np.ones((A.shape[0],1))\n",
        "tolerancia = 1E-10\n",
        "lambda_ = 0\n",
        "dif = 1\n",
        "while dif > tolerancia:\n",
        "    lambda_velho=lambda_\n",
        "    x1 = v / np.linalg.norm(v)\n",
        "    v = A.dot(x1)\n",
        "    lambda_ = x1.T.dot(v)\n",
        "    dif = abs((lambda_-lambda_velho)/lambda_)\n",
        "print('matriz dada')\n",
        "print(A)\n",
        "print('autovalor = ',lambda_,'\\n')"
      ],
      "execution_count": null,
      "outputs": [
        {
          "output_type": "stream",
          "text": [
            "coloque o valor de n da matriz(nxn) 2\n",
            "coloque o valor de A[ 0 , 0 ]\n",
            "2\n",
            "coloque o valor de A[ 0 , 1 ]\n",
            "2\n",
            "coloque o valor de A[ 1 , 0 ]\n",
            "2\n",
            "coloque o valor de A[ 1 , 1 ]\n",
            "2\n",
            "matriz dada\n",
            "[[2. 2.]\n",
            " [2. 2.]]\n",
            "autovalor =  [[4.]] \n",
            "\n"
          ],
          "name": "stdout"
        }
      ]
    },
    {
      "cell_type": "markdown",
      "metadata": {
        "id": "_OYPUoPdn3L2"
      },
      "source": [
        "Relatório: \\\\\n",
        "Sendo $n=2$, temos que $\\mathbf{A} \\in M\\left(2\\times 2\\right)$, dada por\n",
        "$\\mathbf{A}=\\left(\\begin{array}{cc}\n",
        "2& 2\\\\\n",
        "2& 2 \\\\\n",
        "\\end{array}\\right)$ \n",
        "Assim obtemos seu maior autovalor$=4$"
      ]
    }
  ]
}